{
  "nbformat": 4,
  "nbformat_minor": 0,
  "metadata": {
    "colab": {
      "name": "Karen Penagos_AG2.ipynb",
      "provenance": [],
      "collapsed_sections": [],
      "include_colab_link": true
    },
    "kernelspec": {
      "name": "python3",
      "display_name": "Python 3"
    }
  },
  "cells": [
    {
      "cell_type": "markdown",
      "metadata": {
        "id": "view-in-github",
        "colab_type": "text"
      },
      "source": [
        "<a href=\"https://colab.research.google.com/github/kpenagos/03MAIR--Algoritmos--de--Optimizacion--2019/blob/master/AG2/Karen_Penagos_AG2.ipynb\" target=\"_parent\"><img src=\"https://colab.research.google.com/assets/colab-badge.svg\" alt=\"Open In Colab\"/></a>"
      ]
    },
    {
      "cell_type": "markdown",
      "metadata": {
        "id": "WcC8SgG-lsRp",
        "colab_type": "text"
      },
      "source": [
        "Karen Isabella Penagos Actividad Guiada 2\n",
        "https://colab.research.google.com/drive/1cCCfIbiOnTQVAxpxoaKZjGUX6xjN1G4u"
      ]
    },
    {
      "cell_type": "code",
      "metadata": {
        "id": "mAbjppBulacB",
        "colab_type": "code",
        "colab": {}
      },
      "source": [
        "import itertools\n",
        "from functools import wraps\n",
        "\n",
        "def calcular_tiempo(f):\n",
        "    @wraps(f)\n",
        "    def cronometro(*args, **kwargs):\n",
        "        t_inicial = time()\n",
        "        salida = f(*args, **kwargs)\n",
        "        t_final = time()\n",
        "        print('Tiempo transcurrido (en segundos): {}'.format(t_final - t_inicial))\n",
        "        return salida\n",
        "    return cronometro"
      ],
      "execution_count": 0,
      "outputs": []
    },
    {
      "cell_type": "markdown",
      "metadata": {
        "id": "txFND7N-apEK",
        "colab_type": "text"
      },
      "source": [
        "Viaje por el Rio Programación Dinámica"
      ]
    },
    {
      "cell_type": "code",
      "metadata": {
        "id": "sOS-c4vIaV0M",
        "colab_type": "code",
        "outputId": "d143598e-8e3c-43be-cc9c-6d46d8b8eb25",
        "colab": {
          "base_uri": "https://localhost:8080/",
          "height": 88
        }
      },
      "source": [
        "TARIFAS = [\n",
        "[0,5,4,3,999,999,999],\n",
        "[999,0,999,2,3,999,11],\n",
        "[999,999, 0,1,999,4,10],\n",
        "[999,999,999, 0,5,6,9],\n",
        "[999,999, 999,999,0,999,4],\n",
        "[999,999, 999,999,999,0,3],\n",
        "[999,999,999,999,999,999,0]\n",
        "]\n",
        "\n",
        "\n",
        "def precios(TARIFAS):\n",
        "  #Total de nodos\n",
        "  N = len(TARIFAS[0])\n",
        " \n",
        "  #Inicializacion de la tabla de precios\n",
        "  PRECIOS = [ [9999]*N for i in [9999]*N]\n",
        "  RUTA = [ [\"\"]*N for i in [\"\"]*N]\n",
        " \n",
        "  for i in range(N-1):\n",
        "    for j in range(i+1, N):\n",
        "      MIN = TARIFAS[i][j]\n",
        "      RUTA[i][j] = i\n",
        "     \n",
        "      for k in range(i,j):\n",
        "        if PRECIOS[i][k] + TARIFAS[k][j] < MIN:\n",
        "          MIN = min(MIN, PRECIOS[i][k] + TARIFAS[k][j])\n",
        "          RUTA[i][j] =  k\n",
        "        PRECIOS[i][j] = MIN\n",
        " \n",
        "  return PRECIOS, RUTA\n",
        "\n",
        "PRECIOS, RUTA = precios(TARIFAS)\n",
        "print(PRECIOS)\n",
        "print(RUTA)\n",
        "\n",
        "\n",
        "def calcular_ruta(RUTA, desde, hasta):\n",
        "  if desde == hasta:\n",
        "    return desde\n",
        "  else:\n",
        "    return str(calcular_ruta(RUTA, desde, RUTA[desde][hasta] )) + ' - ' + str( RUTA[desde][hasta] )\n",
        " \n",
        "\n",
        "calcular_ruta(RUTA, 1, 6)\n"
      ],
      "execution_count": 0,
      "outputs": [
        {
          "output_type": "stream",
          "text": [
            "[[9999, 5, 4, 3, 8, 8, 11], [9999, 9999, 999, 2, 3, 8, 7], [9999, 9999, 9999, 1, 6, 4, 7], [9999, 9999, 9999, 9999, 5, 6, 9], [9999, 9999, 9999, 9999, 9999, 999, 4], [9999, 9999, 9999, 9999, 9999, 9999, 3], [9999, 9999, 9999, 9999, 9999, 9999, 9999]]\n",
            "[['', 0, 0, 0, 1, 2, 5], ['', '', 1, 1, 1, 3, 4], ['', '', '', 2, 3, 2, 5], ['', '', '', '', 3, 3, 3], ['', '', '', '', '', 4, 4], ['', '', '', '', '', '', 5], ['', '', '', '', '', '', '']]\n"
          ],
          "name": "stdout"
        },
        {
          "output_type": "execute_result",
          "data": {
            "text/plain": [
              "'1 - 1 - 4'"
            ]
          },
          "metadata": {
            "tags": []
          },
          "execution_count": 4
        }
      ]
    },
    {
      "cell_type": "markdown",
      "metadata": {
        "id": "IrrlYKdBb81f",
        "colab_type": "text"
      },
      "source": [
        "***Problema de Asignación de Tareas con el método de Ramificación y Poda***"
      ]
    },
    {
      "cell_type": "code",
      "metadata": {
        "id": "TXSMVngMfk6G",
        "colab_type": "code",
        "colab": {}
      },
      "source": [
        "COSTES=[[11,12,18,40],\n",
        "        [14,15,13,22],\n",
        "        [11,17,19,23],\n",
        "        [17,14,20,28]]"
      ],
      "execution_count": 0,
      "outputs": []
    },
    {
      "cell_type": "code",
      "metadata": {
        "id": "eY5mJ4gYgEhf",
        "colab_type": "code",
        "outputId": "f34cd6aa-f73e-4a35-c20d-16d86386c064",
        "colab": {
          "base_uri": "https://localhost:8080/",
          "height": 34
        }
      },
      "source": [
        " # Función de coste\n",
        "def valor(S, COSTES):\n",
        "  VALOR = 0\n",
        "  for i in range(len(S)):\n",
        "    VALOR += COSTES[S[i]][i]\n",
        "  return VALOR\n",
        "\n",
        "valor((0,1,2,3), COSTES)"
      ],
      "execution_count": 0,
      "outputs": [
        {
          "output_type": "execute_result",
          "data": {
            "text/plain": [
              "73"
            ]
          },
          "metadata": {
            "tags": []
          },
          "execution_count": 12
        }
      ]
    },
    {
      "cell_type": "code",
      "metadata": {
        "id": "l4lA4Px9hf6J",
        "colab_type": "code",
        "outputId": "260e87c7-4623-4fe5-b179-63a305fe5eda",
        "colab": {
          "base_uri": "https://localhost:8080/",
          "height": 34
        }
      },
      "source": [
        "\n",
        "# Resolvemos el problema Por fuerza bruta\n",
        "\n",
        "#@calcular_tiempo\n",
        "def fuerza_bruta(COSTES):\n",
        "  mejor_valor = 10e10\n",
        "  mejor_solucion = ''\n",
        " \n",
        "  for S in list(itertools.permutations(range(len(COSTES)))):\n",
        "    valor_tmp = valor(S,COSTES)\n",
        "    if valor_tmp < mejor_valor:\n",
        "      mejor_valor = valor_tmp\n",
        "      mejor_solucion = S\n",
        "     \n",
        "  print('La mejor solucion es:', mejor_solucion, 'con valor:', mejor_valor)\n",
        " \n",
        "fuerza_bruta(COSTES)"
      ],
      "execution_count": 0,
      "outputs": [
        {
          "output_type": "stream",
          "text": [
            "La mejor solucion es: (0, 3, 1, 2) con valor: 61\n"
          ],
          "name": "stdout"
        }
      ]
    },
    {
      "cell_type": "code",
      "metadata": {
        "id": "6KuIXUKkh5nA",
        "colab_type": "code",
        "outputId": "e4c9501d-ee42-446d-dfcd-85d551e454ff",
        "colab": {
          "base_uri": "https://localhost:8080/",
          "height": 34
        }
      },
      "source": [
        "# Funcion para estimar un coste inferior para una solucion parcial\n",
        "\n",
        "def CI(S, COSTES):\n",
        "  VALOR = 0\n",
        "  #Valores establecidos\n",
        "  for i in range(len(S)):\n",
        "    VALOR += COSTES[i][S[i]]\n",
        "   \n",
        "  #Estimaciones\n",
        "  for i in range( len(COSTES)):\n",
        "    if i not in S:\n",
        "      VALOR += min ([ COSTES[j][i] for j in range(len(S), len(COSTES)) ])\n",
        "     \n",
        "  return VALOR\n",
        " \n",
        "CI((1,2), COSTES)            \n"
      ],
      "execution_count": 0,
      "outputs": [
        {
          "output_type": "execute_result",
          "data": {
            "text/plain": [
              "59"
            ]
          },
          "metadata": {
            "tags": []
          },
          "execution_count": 9
        }
      ]
    },
    {
      "cell_type": "code",
      "metadata": {
        "id": "2k6R5-76iOlj",
        "colab_type": "code",
        "outputId": "7a886b6f-b24d-4032-a0c6-a36d2c71d2bc",
        "colab": {
          "base_uri": "https://localhost:8080/",
          "height": 34
        }
      },
      "source": [
        "# Funcion para ramificar\n",
        "\n",
        "def crear_hijos(NODO, N):\n",
        "  HIJOS = []\n",
        "  for i in range(N):\n",
        "    if i not in NODO:\n",
        "      HIJOS.append( {'s': NODO+ (i,)  })\n",
        "     \n",
        "  return HIJOS\n",
        "\n",
        "crear_hijos((0,2), 4)"
      ],
      "execution_count": 0,
      "outputs": [
        {
          "output_type": "execute_result",
          "data": {
            "text/plain": [
              "[{'s': (0, 2, 1)}, {'s': (0, 2, 3)}]"
            ]
          },
          "metadata": {
            "tags": []
          },
          "execution_count": 10
        }
      ]
    },
    {
      "cell_type": "code",
      "metadata": {
        "id": "81GkWxIrcFPp",
        "colab_type": "code",
        "outputId": "8d36f2dd-757f-49ff-d57c-cd8cc1bc6038",
        "colab": {
          "base_uri": "https://localhost:8080/",
          "height": 1000
        }
      },
      "source": [
        "\n",
        "\n",
        "def ramificacion_y_poda(COSTES):\n",
        "  DIMENSION = len(COSTES)\n",
        "  MEJOR_SOLUCION = tuple( i for i in range(DIMENSION) )\n",
        "  CotaSup = valor(MEJOR_SOLUCION, COSTES)\n",
        " \n",
        "  NODOS=[]\n",
        "  NODOS.append({'s':(), 'ci':CI((), COSTES) })\n",
        " \n",
        "  iteracion=0\n",
        " \n",
        "  while(len(NODOS) > 0):\n",
        "    iteracion +=1\n",
        "    print('\\n#', iteracion)\n",
        "       \n",
        "    nodo_prometedor = min(NODOS, key=lambda x:x['ci'] )\n",
        "   \n",
        "    #Hijos\n",
        "    HIJOS = [{'s':x['s'], 'ci':CI(x['s'], COSTES) } for x in crear_hijos(nodo_prometedor['s'], DIMENSION)]\n",
        "   \n",
        "    NODO_FINAL = [x for x in HIJOS if len(x['s']) == DIMENSION]\n",
        "    if len(NODO_FINAL) > 0:\n",
        "      if NODO_FINAL[0]['ci'] < CotaSup:\n",
        "        CotaSup = NODO_FINAL[0]['ci']\n",
        "        MEJOR_SOLUCION = NODO_FINAL[0]\n",
        "   \n",
        "   \n",
        "    #Poda\n",
        "    HIJOS = [ x for x in HIJOS if x['ci'] < CotaSup ]\n",
        "   \n",
        "    print(nodo_prometedor)\n",
        "    #Eliminamos el nodo expandido\n",
        "    NODOS = [x for x in NODOS if x['s'] != nodo_prometedor['s'] ]\n",
        "   \n",
        "    #Añadimos los hijos\n",
        "    NODOS.extend(HIJOS)\n",
        "   \n",
        "    print(NODOS)\n",
        "   \n",
        "  print('La mejor solucion es:', MEJOR_SOLUCION)\n",
        "   \n",
        "    #return HIJOS\n",
        "   \n",
        "ramificacion_y_poda(COSTES)  "
      ],
      "execution_count": 0,
      "outputs": [
        {
          "output_type": "stream",
          "text": [
            "\n",
            "# 1\n",
            "{'s': (), 'ci': 58}\n",
            "[{'s': (0,), 'ci': 60}, {'s': (1,), 'ci': 58}, {'s': (2,), 'ci': 65}]\n",
            "\n",
            "# 2\n",
            "{'s': (1,), 'ci': 58}\n",
            "[{'s': (0,), 'ci': 60}, {'s': (2,), 'ci': 65}, {'s': (1, 0), 'ci': 68}, {'s': (1, 2), 'ci': 59}, {'s': (1, 3), 'ci': 64}]\n",
            "\n",
            "# 3\n",
            "{'s': (1, 2), 'ci': 59}\n",
            "[{'s': (0,), 'ci': 60}, {'s': (2,), 'ci': 65}, {'s': (1, 0), 'ci': 68}, {'s': (1, 3), 'ci': 64}, {'s': (1, 2, 0), 'ci': 64}, {'s': (1, 2, 3), 'ci': 65}]\n",
            "\n",
            "# 4\n",
            "{'s': (0,), 'ci': 60}\n",
            "[{'s': (2,), 'ci': 65}, {'s': (1, 0), 'ci': 68}, {'s': (1, 3), 'ci': 64}, {'s': (1, 2, 0), 'ci': 64}, {'s': (1, 2, 3), 'ci': 65}, {'s': (0, 1), 'ci': 68}, {'s': (0, 2), 'ci': 61}, {'s': (0, 3), 'ci': 66}]\n",
            "\n",
            "# 5\n",
            "{'s': (0, 2), 'ci': 61}\n",
            "[{'s': (2,), 'ci': 65}, {'s': (1, 0), 'ci': 68}, {'s': (1, 3), 'ci': 64}, {'s': (1, 2, 0), 'ci': 64}, {'s': (1, 2, 3), 'ci': 65}, {'s': (0, 1), 'ci': 68}, {'s': (0, 3), 'ci': 66}, {'s': (0, 2, 1), 'ci': 69}, {'s': (0, 2, 3), 'ci': 61}]\n",
            "\n",
            "# 6\n",
            "{'s': (0, 2, 3), 'ci': 61}\n",
            "[{'s': (2,), 'ci': 65}, {'s': (1, 0), 'ci': 68}, {'s': (1, 3), 'ci': 64}, {'s': (1, 2, 0), 'ci': 64}, {'s': (1, 2, 3), 'ci': 65}, {'s': (0, 1), 'ci': 68}, {'s': (0, 3), 'ci': 66}, {'s': (0, 2, 1), 'ci': 69}]\n",
            "\n",
            "# 7\n",
            "{'s': (1, 3), 'ci': 64}\n",
            "[{'s': (2,), 'ci': 65}, {'s': (1, 0), 'ci': 68}, {'s': (1, 2, 0), 'ci': 64}, {'s': (1, 2, 3), 'ci': 65}, {'s': (0, 1), 'ci': 68}, {'s': (0, 3), 'ci': 66}, {'s': (0, 2, 1), 'ci': 69}]\n",
            "\n",
            "# 8\n",
            "{'s': (1, 2, 0), 'ci': 64}\n",
            "[{'s': (2,), 'ci': 65}, {'s': (1, 0), 'ci': 68}, {'s': (1, 2, 3), 'ci': 65}, {'s': (0, 1), 'ci': 68}, {'s': (0, 3), 'ci': 66}, {'s': (0, 2, 1), 'ci': 69}]\n",
            "\n",
            "# 9\n",
            "{'s': (2,), 'ci': 65}\n",
            "[{'s': (1, 0), 'ci': 68}, {'s': (1, 2, 3), 'ci': 65}, {'s': (0, 1), 'ci': 68}, {'s': (0, 3), 'ci': 66}, {'s': (0, 2, 1), 'ci': 69}]\n",
            "\n",
            "# 10\n",
            "{'s': (1, 2, 3), 'ci': 65}\n",
            "[{'s': (1, 0), 'ci': 68}, {'s': (0, 1), 'ci': 68}, {'s': (0, 3), 'ci': 66}, {'s': (0, 2, 1), 'ci': 69}]\n",
            "\n",
            "# 11\n",
            "{'s': (0, 3), 'ci': 66}\n",
            "[{'s': (1, 0), 'ci': 68}, {'s': (0, 1), 'ci': 68}, {'s': (0, 2, 1), 'ci': 69}]\n",
            "\n",
            "# 12\n",
            "{'s': (1, 0), 'ci': 68}\n",
            "[{'s': (0, 1), 'ci': 68}, {'s': (0, 2, 1), 'ci': 69}]\n",
            "\n",
            "# 13\n",
            "{'s': (0, 1), 'ci': 68}\n",
            "[{'s': (0, 2, 1), 'ci': 69}]\n",
            "\n",
            "# 14\n",
            "{'s': (0, 2, 1), 'ci': 69}\n",
            "[]\n",
            "La mejor solucion es: {'s': (0, 2, 3, 1), 'ci': 61}\n"
          ],
          "name": "stdout"
        }
      ]
    },
    {
      "cell_type": "code",
      "metadata": {
        "id": "x8FIh2ujiMyS",
        "colab_type": "code",
        "colab": {}
      },
      "source": [
        ""
      ],
      "execution_count": 0,
      "outputs": []
    }
  ]
}
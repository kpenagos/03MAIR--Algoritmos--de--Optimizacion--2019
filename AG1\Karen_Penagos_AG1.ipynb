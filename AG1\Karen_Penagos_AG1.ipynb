{
  "nbformat": 4,
  "nbformat_minor": 0,
  "metadata": {
    "colab": {
      "name": "Karen_Penagos_AG1.ipynb",
      "provenance": [],
      "collapsed_sections": [],
      "include_colab_link": true
    },
    "kernelspec": {
      "name": "python3",
      "display_name": "Python 3"
    }
  },
  "cells": [
    {
      "cell_type": "markdown",
      "metadata": {
        "id": "view-in-github",
        "colab_type": "text"
      },
      "source": [
        "<a href=\"https://colab.research.google.com/github/kpenagos/03MAIR--Algoritmos--de--Optimizacion--2019/blob/master/AG1%5CKaren_Penagos_AG1.ipynb\" target=\"_parent\"><img src=\"https://colab.research.google.com/assets/colab-badge.svg\" alt=\"Open In Colab\"/></a>"
      ]
    },
    {
      "cell_type": "markdown",
      "metadata": {
        "id": "D4O77IvdZ6ww",
        "colab_type": "text"
      },
      "source": [
        "Actvidad guiada 1\n",
        "Karen Isabella Penagos"
      ]
    },
    {
      "cell_type": "markdown",
      "metadata": {
        "id": "RswLfqfkm3x4",
        "colab_type": "text"
      },
      "source": [
        "Decorador para medir el tiempo"
      ]
    },
    {
      "cell_type": "code",
      "metadata": {
        "id": "vxV1WvBSKZ3o",
        "colab_type": "code",
        "colab": {}
      },
      "source": [
        "from functools import wraps\n",
        "from time import time\n",
        "\n",
        "def calcular_tiempo(f):\n",
        "    @wraps(f)\n",
        "    def cronometro(*args, **kwargs):\n",
        "        t_inicial = time()\n",
        "        salida = f(*args, **kwargs)\n",
        "        t_final = time()\n",
        "        print('Tiempo transcurrido (en segundos): {}'.format(t_final - t_inicial))\n",
        "        return salida\n",
        "    return cronometro"
      ],
      "execution_count": 0,
      "outputs": []
    },
    {
      "cell_type": "markdown",
      "metadata": {
        "id": "7g1E8MAIn8qh",
        "colab_type": "text"
      },
      "source": [
        "Algoritmo de ordenación QUICK SORT"
      ]
    },
    {
      "cell_type": "code",
      "metadata": {
        "id": "kujtXbWjbjel",
        "colab_type": "code",
        "colab": {}
      },
      "source": [
        "A = [9187, 244, 4054, 9222, 8373, 4993, 5265, 5470, 4519, 7182, 2035, 3506, 4337, 7580, 2554, 2824, 8357, 4447, 7379]"
      ],
      "execution_count": 0,
      "outputs": []
    },
    {
      "cell_type": "code",
      "metadata": {
        "id": "4D5iJxFybvuB",
        "colab_type": "code",
        "outputId": "2c56dc73-03a8-4cef-f015-841b16a82009",
        "colab": {
          "base_uri": "https://localhost:8080/",
          "height": 51
        }
      },
      "source": [
        "def quick_sort(A):#función recursiva\n",
        "  if len(A)<=1:\n",
        "     return A\n",
        "    \n",
        "\n",
        "  if len(A)==2:\n",
        "     return [min(A),max(A)]\n",
        "\n",
        "  pivote = (A[0] + A[1] + A[2])/3  #Elección de un pivote para dividir la lista\n",
        "    \n",
        "  IZQ = []\n",
        "  DER = []\n",
        "    \n",
        "  for n in A:\n",
        "    if n <pivote :\n",
        "        IZQ.append(n)\n",
        "    else :\n",
        "        DER.append(n)\n",
        "\n",
        "        \n",
        "  return quick_sort(IZQ)+ quick_sort(DER)\n",
        "\n",
        "@calcular_tiempo\n",
        "def ordenar(A):\n",
        "  print(quick_sort(A)) \n",
        "  \n",
        "ordenar(A) "
      ],
      "execution_count": 0,
      "outputs": [
        {
          "output_type": "stream",
          "text": [
            "[244, 2035, 2554, 2824, 3506, 4054, 4337, 4447, 4519, 4993, 5265, 5470, 7182, 7379, 7580, 8357, 8373, 9187, 9222]\n",
            "Tiempo transcurrido (en segundos): 0.00159454345703125\n"
          ],
          "name": "stdout"
        }
      ]
    },
    {
      "cell_type": "markdown",
      "metadata": {
        "id": "PBqdHw7Tfvhw",
        "colab_type": "text"
      },
      "source": [
        "Algoritmo Voraz\n",
        "Problema: cambio de monedas"
      ]
    },
    {
      "cell_type": "code",
      "metadata": {
        "id": "ymuTFjtyf4Q6",
        "colab_type": "code",
        "outputId": "5b0afb29-d5cf-4416-fce3-2a1788295e06",
        "colab": {
          "base_uri": "https://localhost:8080/",
          "height": 51
        }
      },
      "source": [
        "SISTEMA= [25, 10, 5, 1]\n",
        "@calcular_tiempo\n",
        "\n",
        "def cambio_moneda(CANTIDAD, SISTEMA):\n",
        "  SOLUCION = [0 for i in range(len(SISTEMA)) ] #nicializamos la variable SOLUCION a cero con tantos valores como tipos de monedas. \n",
        "    \n",
        "  VALOR_ACUMULADO = 0\n",
        "    \n",
        "  for i in range(len(SISTEMA)):\n",
        "      MONEDAS= int((CANTIDAD-VALOR_ACUMULADO)/SISTEMA[i]) #Calculamos el máximo de monedas posibles en cada iteración\n",
        "3      SOLUCION[i]= MONEDAS\n",
        "      VALOR_ACUMULADO= VALOR_ACUMULADO+ MONEDAS*SISTEMA[i]\n",
        "      \n",
        "      if VALOR_ACUMULADO==CANTIDAD: #Si llegamos a la cantidad devolvemos la solución.\n",
        "        return SOLUCION\n",
        "      \n",
        "print(cambio_moneda(123,SISTEMA))"
      ],
      "execution_count": 0,
      "outputs": [
        {
          "output_type": "stream",
          "text": [
            "Tiempo transcurrido (en segundos): 7.867813110351562e-06\n",
            "[4, 2, 0, 3]\n"
          ],
          "name": "stdout"
        }
      ]
    },
    {
      "cell_type": "markdown",
      "metadata": {
        "id": "6huRYVVcmXJr",
        "colab_type": "text"
      },
      "source": [
        "Algoritmo para el problema de las n reinas"
      ]
    },
    {
      "cell_type": "code",
      "metadata": {
        "id": "VM0b8M_8W8-Z",
        "colab_type": "code",
        "outputId": "0a508067-11b8-4eaf-f7ee-2f8743283c8d",
        "colab": {
          "base_uri": "https://localhost:8080/",
          "height": 85
        }
      },
      "source": [
        "def es_prometedora(SOLUCION, etapa):\n",
        "  \n",
        "  for i in range(etapa + 1):\n",
        "    if SOLUCION.count(SOLUCION[i]) > 1:\n",
        "      return False\n",
        "    \n",
        "    for j in range(i+1, etapa + 1):\n",
        "      if abs(i-j) == abs(SOLUCION[i] - SOLUCION[j]):\n",
        "        return False\n",
        "      \n",
        "  return True\n",
        "\n",
        "\n",
        "#N es el número de reinas a posicionar\n",
        "\n",
        "def reinas(N, solucion=[] , etapa=0):  #Tamaño del tablero\n",
        "  \n",
        "  if len(solucion) == 0:\n",
        "      solucion=[0 for i in range(N)]\n",
        "  \n",
        "  for i in range (1, N+1):\n",
        "    solucion[etapa] = i\n",
        "    #print(solucion)\n",
        "    if es_prometedora(solucion, etapa):\n",
        "      if etapa == N-1:\n",
        "        print('\\n\\nLa solucion es:')\n",
        "        print(solucion)\n",
        "      else:\n",
        "        reinas(N, solucion, etapa+1)\n",
        "      \n",
        "    else:\n",
        "      #print('No prometedora\\n####################')\n",
        "        None  \n",
        "      \n",
        "\n",
        "reinas(4)\n",
        "\n",
        "\n"
      ],
      "execution_count": 0,
      "outputs": [
        {
          "output_type": "stream",
          "text": [
            "\n",
            "\n",
            "La solucion es:\n",
            "[3, 1, 4, 2]\n"
          ],
          "name": "stdout"
        }
      ]
    }
  ]
}
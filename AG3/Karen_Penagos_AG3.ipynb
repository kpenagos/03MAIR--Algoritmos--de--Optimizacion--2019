{
  "nbformat": 4,
  "nbformat_minor": 0,
  "metadata": {
    "colab": {
      "name": "Karen_Penagos_AG3.ipynb",
      "provenance": [],
      "collapsed_sections": [],
      "include_colab_link": true
    },
    "kernelspec": {
      "name": "python3",
      "display_name": "Python 3"
    }
  },
  "cells": [
    {
      "cell_type": "markdown",
      "metadata": {
        "id": "view-in-github",
        "colab_type": "text"
      },
      "source": [
        "<a href=\"https://colab.research.google.com/github/kpenagos/03MAIR--Algoritmos--de--Optimizacion--2019/blob/master/AG3/Karen_Penagos_AG3.ipynb\" target=\"_parent\"><img src=\"https://colab.research.google.com/assets/colab-badge.svg\" alt=\"Open In Colab\"/></a>"
      ]
    },
    {
      "cell_type": "markdown",
      "metadata": {
        "id": "aqt1CsypcDlq",
        "colab_type": "text"
      },
      "source": [
        "Karen Isabella Penagos GA"
      ]
    },
    {
      "cell_type": "code",
      "metadata": {
        "id": "vro0A1lJgKi8",
        "colab_type": "code",
        "outputId": "f5ff25fa-ebb2-4cae-8dc5-7f7bb5dec57b",
        "colab": {
          "base_uri": "https://localhost:8080/",
          "height": 547
        }
      },
      "source": [
        "!pip install request"
      ],
      "execution_count": 0,
      "outputs": [
        {
          "output_type": "stream",
          "text": [
            "Collecting request\n",
            "  Downloading https://files.pythonhosted.org/packages/f1/27/7cbde262d854aedf217061a97020d66a63163c5c04e0ec02ff98c5d8f44e/request-2019.4.13.tar.gz\n",
            "Collecting get (from request)\n",
            "  Downloading https://files.pythonhosted.org/packages/3f/ef/bb46f77f7220ac1b7edba0c76d810c89fddb24ddd8c08f337b9b4a618db7/get-2019.4.13.tar.gz\n",
            "Collecting post (from request)\n",
            "  Downloading https://files.pythonhosted.org/packages/0f/05/bd79da5849ea6a92485ed7029ef97b1b75e55c26bc0ed3a7ec769af666f3/post-2019.4.13.tar.gz\n",
            "Requirement already satisfied: setuptools in /usr/local/lib/python3.6/dist-packages (from request) (41.2.0)\n",
            "Collecting query_string (from get->request)\n",
            "  Downloading https://files.pythonhosted.org/packages/12/3c/412a45daf5bea9b1d06d7de41787ec4168001dfa418db7ec8723356b119f/query-string-2019.4.13.tar.gz\n",
            "Collecting public (from query_string->get->request)\n",
            "  Downloading https://files.pythonhosted.org/packages/54/4d/b40004cc6c07665e48af22cfe1e631f219bf4282e15fa76a5b6364f6885c/public-2019.4.13.tar.gz\n",
            "Building wheels for collected packages: request, get, post, query-string, public\n",
            "  Building wheel for request (setup.py) ... \u001b[?25l\u001b[?25hdone\n",
            "  Created wheel for request: filename=request-2019.4.13-cp36-none-any.whl size=1676 sha256=d3f5927aa8042b89a67706828127174acaafec5f1ec487437456314c56e53db1\n",
            "  Stored in directory: /root/.cache/pip/wheels/30/84/5f/484cfba678967ef58c16fce6890925d5c7172622f20111fbfd\n",
            "  Building wheel for get (setup.py) ... \u001b[?25l\u001b[?25hdone\n",
            "  Created wheel for get: filename=get-2019.4.13-cp36-none-any.whl size=1692 sha256=97cc611925cffa1dc64e25acc56b281f25cc2307f7696deda46c3a1a60ddc4af\n",
            "  Stored in directory: /root/.cache/pip/wheels/c1/e3/c1/d02c8c58538853e4c9b78cadb74f6d5c5c370b48a69a7271aa\n",
            "  Building wheel for post (setup.py) ... \u001b[?25l\u001b[?25hdone\n",
            "  Created wheel for post: filename=post-2019.4.13-cp36-none-any.whl size=1661 sha256=bfb7d47fbf5d611f0491c472993915e31cc84ddde304399f58d8ccd344508144\n",
            "  Stored in directory: /root/.cache/pip/wheels/c3/c3/24/b5c132b537ab380c02d69e6bd4dec1f5db56b5fe19030473d7\n",
            "  Building wheel for query-string (setup.py) ... \u001b[?25l\u001b[?25hdone\n",
            "  Created wheel for query-string: filename=query_string-2019.4.13-cp36-none-any.whl size=2049 sha256=451eb146141a6c90de9498e5387e79da9ffc2402e8cb8e3de4461565b5662af0\n",
            "  Stored in directory: /root/.cache/pip/wheels/d6/a4/78/01b20a9dc224dcc009fab669f7f27b943b8889c5150bd68d8a\n",
            "  Building wheel for public (setup.py) ... \u001b[?25l\u001b[?25hdone\n",
            "  Created wheel for public: filename=public-2019.4.13-cp36-none-any.whl size=2536 sha256=6b32e2b8b1cdfb151866a723cec5b82a8a493297a6323b522adee073b4f756e9\n",
            "  Stored in directory: /root/.cache/pip/wheels/23/7c/6e/f5b4e09d6596c8b8802b347e48f149031e2363368048f1347a\n",
            "Successfully built request get post query-string public\n",
            "Installing collected packages: public, query-string, get, post, request\n",
            "Successfully installed get-2019.4.13 post-2019.4.13 public-2019.4.13 query-string-2019.4.13 request-2019.4.13\n"
          ],
          "name": "stdout"
        }
      ]
    },
    {
      "cell_type": "markdown",
      "metadata": {
        "id": "61ldXMn-ageN",
        "colab_type": "text"
      },
      "source": [
        "**Problema del Agente viajero TSP**"
      ]
    },
    {
      "cell_type": "code",
      "metadata": {
        "id": "P6UAx3zUlNPI",
        "colab_type": "code",
        "outputId": "aa0f05d3-5912-4153-f706-757db372ed18",
        "colab": {
          "base_uri": "https://localhost:8080/",
          "height": 34
        }
      },
      "source": [
        "import urllib.request\n",
        "file= 'swiss42.tsp'\n",
        "\n",
        "urllib.request.urlretrieve( \"http://elib.zib.de/pub/mp-testdata/tsp/tsplib/tsp/swiss42.tsp\",file)"
      ],
      "execution_count": 0,
      "outputs": [
        {
          "output_type": "execute_result",
          "data": {
            "text/plain": [
              "('swiss42.tsp', <http.client.HTTPMessage at 0x7f4ac4256438>)"
            ]
          },
          "metadata": {
            "tags": []
          },
          "execution_count": 3
        }
      ]
    },
    {
      "cell_type": "code",
      "metadata": {
        "id": "n4TK_ABkmc6c",
        "colab_type": "code",
        "outputId": "f08819ce-513b-482d-bdf7-618039696a9b",
        "colab": {
          "base_uri": "https://localhost:8080/",
          "height": 136
        }
      },
      "source": [
        "!pip install tsplib95\n"
      ],
      "execution_count": 0,
      "outputs": [
        {
          "output_type": "stream",
          "text": [
            "Collecting tsplib95\n",
            "  Downloading https://files.pythonhosted.org/packages/ab/2b/90bd3084358e29913b46c93c45791a43d31ac4773f2399d50a328e368725/tsplib95-0.4.0-py2.py3-none-any.whl\n",
            "Requirement already satisfied: networkx~=2.1 in /usr/local/lib/python3.6/dist-packages (from tsplib95) (2.3)\n",
            "Requirement already satisfied: Click>=6.0 in /usr/local/lib/python3.6/dist-packages (from tsplib95) (7.0)\n",
            "Requirement already satisfied: decorator>=4.3.0 in /usr/local/lib/python3.6/dist-packages (from networkx~=2.1->tsplib95) (4.4.0)\n",
            "Installing collected packages: tsplib95\n",
            "Successfully installed tsplib95-0.4.0\n"
          ],
          "name": "stdout"
        }
      ]
    },
    {
      "cell_type": "code",
      "metadata": {
        "id": "N4ETJCGCmqFL",
        "colab_type": "code",
        "colab": {}
      },
      "source": [
        "import tsplib95\n",
        "import random\n",
        "from math import e\n"
      ],
      "execution_count": 0,
      "outputs": []
    },
    {
      "cell_type": "code",
      "metadata": {
        "id": "dxdzwG8Qm6Po",
        "colab_type": "code",
        "outputId": "f0a4475b-a455-4b81-f3ff-0e74ccd6ea90",
        "colab": {
          "base_uri": "https://localhost:8080/",
          "height": 34
        }
      },
      "source": [
        "problem= tsplib95.load_problem(file)\n",
        "\n",
        "Nodos=list(problem.get_nodes())\n",
        "\n",
        "list(problem.get_nodes())\n",
        "list(problem.get_edges())\n",
        "\n",
        "problem.wfunc(0,3)"
      ],
      "execution_count": 0,
      "outputs": [
        {
          "output_type": "execute_result",
          "data": {
            "text/plain": [
              "23"
            ]
          },
          "metadata": {
            "tags": []
          },
          "execution_count": 6
        }
      ]
    },
    {
      "cell_type": "code",
      "metadata": {
        "id": "PIPP711hn6vS",
        "colab_type": "code",
        "outputId": "f5929450-d47e-44d1-9739-bb0bcc74fce7",
        "colab": {
          "base_uri": "https://localhost:8080/",
          "height": 54
        }
      },
      "source": [
        "def distancia (a,b,problem):  #Devuelve la distancia entre los nodos\n",
        "  return problem.wfunc(a,b)\n",
        "\n",
        "def crear_solucion(Nodos): #Solucion aleatoria que comienza en 0\n",
        "  solucion=[0]\n",
        "  for i in range(len(Nodos)-1):\n",
        "    solucion = solucion + [random.choice(list(set(Nodos) - set({0}) - set(solucion)))]\n",
        "  return solucion\n",
        "                  \n",
        "#crear_solucion(Nodos)                 \n",
        "\n",
        "def distancia_total (solucion, problem):\n",
        "  distancia_ret=0\n",
        "  for i in range(len(solucion)-1):\n",
        "    distancia_ret += distancia(solucion[i],solucion[i+1],problem)\n",
        "  return distancia_ret +distancia (solucion[len(solucion)-1],solucion[0],problem)\n",
        "\n",
        "solucion_prueba= crear_solucion(Nodos)\n",
        "\n",
        "print (distancia_total(solucion_prueba,problem),solucion_prueba)\n"
      ],
      "execution_count": 0,
      "outputs": [
        {
          "output_type": "stream",
          "text": [
            "4727 [0, 5, 1, 26, 11, 21, 15, 8, 13, 30, 9, 31, 10, 23, 29, 40, 33, 22, 19, 25, 3, 38, 28, 4, 6, 36, 35, 32, 24, 12, 20, 17, 27, 7, 39, 34, 16, 37, 18, 41, 14, 2]\n"
          ],
          "name": "stdout"
        }
      ]
    },
    {
      "cell_type": "markdown",
      "metadata": {
        "id": "pfZyCslHa3Es",
        "colab_type": "text"
      },
      "source": [
        "**Metaheurísticas de búsquedas**"
      ]
    },
    {
      "cell_type": "code",
      "metadata": {
        "id": "b5BYTRtjsUm-",
        "colab_type": "code",
        "outputId": "4d98be59-d2d0-4961-b270-059939328940",
        "colab": {
          "base_uri": "https://localhost:8080/",
          "height": 785
        }
      },
      "source": [
        "def busqueda_aleatoria(problem,N):\n",
        "  Nodos=list(problem.get_nodes())\n",
        "  \n",
        "  mejor_solucion=[]\n",
        "  mejor_distancia=10e10\n",
        "  \n",
        "  for i in range(N):\n",
        "    solucion=crear_solucion(Nodos)\n",
        "    distancia_solucion=distancia_total(solucion,problem)\n",
        "    \n",
        "    if distancia_solucion< mejor_distancia:\n",
        "      mejor_solucion=solucion\n",
        "      mejor_distancia=distancia_solucion\n",
        "      \n",
        "  print(\"la mejor solucion encontrada es\", end=\"\")\n",
        "  print(solucion)\n",
        "  print(\"con una distancia total de\", end=\"\") \n",
        "  print(mejor_distancia)\n",
        "  return(mejor_solucion)\n",
        "    \n",
        "busqueda_aleatoria(problem,100)   \n",
        "  "
      ],
      "execution_count": 0,
      "outputs": [
        {
          "output_type": "stream",
          "text": [
            "la mejor solucion encontrada es[0, 13, 7, 22, 32, 34, 11, 1, 27, 2, 5, 28, 37, 20, 10, 29, 25, 12, 16, 8, 23, 38, 33, 15, 40, 24, 39, 35, 3, 6, 9, 4, 30, 18, 41, 17, 14, 31, 36, 19, 26, 21]\n",
            "con una distancia total de3949\n"
          ],
          "name": "stdout"
        },
        {
          "output_type": "execute_result",
          "data": {
            "text/plain": [
              "[0,\n",
              " 17,\n",
              " 31,\n",
              " 35,\n",
              " 30,\n",
              " 19,\n",
              " 28,\n",
              " 10,\n",
              " 38,\n",
              " 34,\n",
              " 25,\n",
              " 18,\n",
              " 12,\n",
              " 16,\n",
              " 32,\n",
              " 4,\n",
              " 29,\n",
              " 22,\n",
              " 20,\n",
              " 33,\n",
              " 5,\n",
              " 21,\n",
              " 41,\n",
              " 27,\n",
              " 39,\n",
              " 23,\n",
              " 24,\n",
              " 7,\n",
              " 36,\n",
              " 14,\n",
              " 15,\n",
              " 11,\n",
              " 6,\n",
              " 26,\n",
              " 9,\n",
              " 40,\n",
              " 37,\n",
              " 13,\n",
              " 8,\n",
              " 2,\n",
              " 1,\n",
              " 3]"
            ]
          },
          "metadata": {
            "tags": []
          },
          "execution_count": 8
        }
      ]
    },
    {
      "cell_type": "code",
      "metadata": {
        "id": "hKgeZB75wKht",
        "colab_type": "code",
        "outputId": "741bfc99-55fb-4a0e-ac64-bb66a8e2b2c5",
        "colab": {
          "base_uri": "https://localhost:8080/",
          "height": 731
        }
      },
      "source": [
        "#Búsqueda local.  Generador de vecindad \n",
        "def generar_vecina(solucion,problem):\n",
        "  mejor_solucion=[]\n",
        "  mejor_distancia=10e10\n",
        "  for i in range(1,len(solucion)-1):\n",
        "    for j in range(1+i,len(solucion)):\n",
        "      vecina = solucion[:i] + [solucion[j]] + solucion[i+1:j] + [solucion[i]] + solucion[j+1:]\n",
        "      distancia_vecina=distancia_total(vecina,problem)\n",
        "    if distancia_vecina<=mejor_distancia:\n",
        "      mejor_distacia=distancia_vecina\n",
        "      mejor_solucion=vecina\n",
        "  return mejor_solucion\n",
        "    \n",
        "solucion_prueba= crear_solucion(Nodos)\n",
        "generar_vecina(solucion_prueba,problem)"
      ],
      "execution_count": 0,
      "outputs": [
        {
          "output_type": "execute_result",
          "data": {
            "text/plain": [
              "[0,\n",
              " 28,\n",
              " 40,\n",
              " 36,\n",
              " 26,\n",
              " 1,\n",
              " 13,\n",
              " 2,\n",
              " 9,\n",
              " 34,\n",
              " 12,\n",
              " 15,\n",
              " 16,\n",
              " 32,\n",
              " 37,\n",
              " 29,\n",
              " 7,\n",
              " 25,\n",
              " 4,\n",
              " 27,\n",
              " 14,\n",
              " 24,\n",
              " 35,\n",
              " 38,\n",
              " 20,\n",
              " 41,\n",
              " 22,\n",
              " 11,\n",
              " 33,\n",
              " 3,\n",
              " 21,\n",
              " 31,\n",
              " 19,\n",
              " 17,\n",
              " 23,\n",
              " 8,\n",
              " 39,\n",
              " 30,\n",
              " 5,\n",
              " 10,\n",
              " 18,\n",
              " 6]"
            ]
          },
          "metadata": {
            "tags": []
          },
          "execution_count": 9
        }
      ]
    },
    {
      "cell_type": "code",
      "metadata": {
        "id": "jJNbStRYotYF",
        "colab_type": "code",
        "colab": {}
      },
      "source": [
        "def busqueda_local(problem, N):\n",
        "  mejor_solucion=[]\n",
        "  mejor_distancia=10e10\n",
        "  \n",
        "  Nodos=list(problem.get_nodes())\n",
        "  \n",
        "  solucion_referencia= crear_solucion(Nodos)\n",
        "  \n",
        "  for i in range(N):\n",
        "    vecina=generar_vecina(solucion_referencia,problem)\n",
        "    distancia_vecina= distancia_total(vecina,problem)\n",
        "    if distancia_vecina <= mejor_distancia:\n",
        "      mejor_distacia=distancia_vecina\n",
        "      mejor_solucion=vecina\n",
        "      \n",
        "    solucion_referencia=mejor_solucion\n",
        "  \n",
        "  print(distancia_total(mejor_solucion,problem),mejor_solucion)   \n",
        " \n",
        "  return mejor_solucion\n",
        "    \n",
        "  "
      ],
      "execution_count": 0,
      "outputs": []
    },
    {
      "cell_type": "code",
      "metadata": {
        "id": "WhwrT4fM06_s",
        "colab_type": "code",
        "outputId": "818e288b-531a-4863-dfaa-4daa6006dd99",
        "colab": {
          "base_uri": "https://localhost:8080/",
          "height": 768
        }
      },
      "source": [
        "busqueda_local(problem,100)"
      ],
      "execution_count": 0,
      "outputs": [
        {
          "output_type": "stream",
          "text": [
            "4818 [0, 39, 37, 36, 33, 7, 3, 27, 25, 5, 31, 22, 1, 18, 8, 14, 34, 12, 24, 32, 21, 30, 2, 9, 29, 11, 19, 13, 26, 40, 20, 41, 16, 10, 28, 4, 17, 35, 6, 15, 23, 38]\n"
          ],
          "name": "stdout"
        },
        {
          "output_type": "execute_result",
          "data": {
            "text/plain": [
              "[0,\n",
              " 39,\n",
              " 37,\n",
              " 36,\n",
              " 33,\n",
              " 7,\n",
              " 3,\n",
              " 27,\n",
              " 25,\n",
              " 5,\n",
              " 31,\n",
              " 22,\n",
              " 1,\n",
              " 18,\n",
              " 8,\n",
              " 14,\n",
              " 34,\n",
              " 12,\n",
              " 24,\n",
              " 32,\n",
              " 21,\n",
              " 30,\n",
              " 2,\n",
              " 9,\n",
              " 29,\n",
              " 11,\n",
              " 19,\n",
              " 13,\n",
              " 26,\n",
              " 40,\n",
              " 20,\n",
              " 41,\n",
              " 16,\n",
              " 10,\n",
              " 28,\n",
              " 4,\n",
              " 17,\n",
              " 35,\n",
              " 6,\n",
              " 15,\n",
              " 23,\n",
              " 38]"
            ]
          },
          "metadata": {
            "tags": []
          },
          "execution_count": 13
        }
      ]
    },
    {
      "cell_type": "markdown",
      "metadata": {
        "id": "Ezi8G8zMbdBV",
        "colab_type": "text"
      },
      "source": [
        "**Metaheurísticas: Recocido simulado - SA**"
      ]
    },
    {
      "cell_type": "code",
      "metadata": {
        "id": "UKJgTpKG2HHZ",
        "colab_type": "code",
        "colab": {}
      },
      "source": [
        "#Funcion de probabilidad para aceptar peores soluciones\n",
        "\n",
        "def probabilidad(T,d):\n",
        "  r=random.random()\n",
        "  \n",
        "  if r >= (e**(-1*d)/((T * .5*10**(-5))))  :\n",
        "    return True\n",
        "  else:\n",
        "    return False\n",
        " \n",
        "\n",
        "# Funcion de descenso de la temperatura\n",
        "def bajar_temperatura(T):\n",
        "  return T*0.9\n",
        "  "
      ],
      "execution_count": 0,
      "outputs": []
    },
    {
      "cell_type": "code",
      "metadata": {
        "id": "eMQxxWBb3XvL",
        "colab_type": "code",
        "outputId": "6a0473f4-9ea7-4f16-9c9b-3e4e13c2bfce",
        "colab": {
          "base_uri": "https://localhost:8080/",
          "height": 768
        }
      },
      "source": [
        "# RECOCIDO SIMULADO\n",
        "\n",
        "def recocido_simulado(problem,TEMPERATURA):\n",
        "  \n",
        "  solucion_referencia=crear_solucion(Nodos)\n",
        "  \n",
        "  distancia_referencia=distancia_total(solucion_referencia,problem)\n",
        "  \n",
        "  mejor_solucion=[]\n",
        "  mejor_distancia=10e10\n",
        "  \n",
        "  while TEMPERATURA > 1:\n",
        "    vecina=generar_vecina(solucion_referencia,problem)\n",
        "    distancia_vecina=distancia_total(vecina,problem)\n",
        "    \n",
        "    if distancia_vecina<mejor_distancia:\n",
        "      mejor_solucion=vecina\n",
        "      mejor_distancia=distancia_vecina\n",
        "      \n",
        "    if distancia_vecina < distancia_referencia or probabilidad(TEMPERATURA,abs(distancia_referencia -distancia_vecina)):\n",
        "      solucion_referencia=vecina\n",
        "      distancia_referencia=distancia_vecina\n",
        "      \n",
        "    TEMPERATURA= bajar_temperatura(TEMPERATURA)\n",
        "    \n",
        "    print(mejor_distancia,mejor_solucion)\n",
        "    \n",
        "    return mejor_solucion\n",
        "\n",
        "\n",
        "recocido_simulado(problem,1000)\n"
      ],
      "execution_count": 0,
      "outputs": [
        {
          "output_type": "stream",
          "text": [
            "4683 [0, 34, 30, 40, 17, 27, 15, 31, 37, 11, 16, 29, 38, 32, 6, 36, 5, 22, 13, 4, 25, 10, 26, 41, 1, 28, 20, 19, 9, 18, 2, 12, 14, 23, 24, 39, 35, 3, 8, 21, 33, 7]\n"
          ],
          "name": "stdout"
        },
        {
          "output_type": "execute_result",
          "data": {
            "text/plain": [
              "[0,\n",
              " 34,\n",
              " 30,\n",
              " 40,\n",
              " 17,\n",
              " 27,\n",
              " 15,\n",
              " 31,\n",
              " 37,\n",
              " 11,\n",
              " 16,\n",
              " 29,\n",
              " 38,\n",
              " 32,\n",
              " 6,\n",
              " 36,\n",
              " 5,\n",
              " 22,\n",
              " 13,\n",
              " 4,\n",
              " 25,\n",
              " 10,\n",
              " 26,\n",
              " 41,\n",
              " 1,\n",
              " 28,\n",
              " 20,\n",
              " 19,\n",
              " 9,\n",
              " 18,\n",
              " 2,\n",
              " 12,\n",
              " 14,\n",
              " 23,\n",
              " 24,\n",
              " 39,\n",
              " 35,\n",
              " 3,\n",
              " 8,\n",
              " 21,\n",
              " 33,\n",
              " 7]"
            ]
          },
          "metadata": {
            "tags": []
          },
          "execution_count": 31
        }
      ]
    },
    {
      "cell_type": "markdown",
      "metadata": {
        "id": "9Eb45WaAqS9k",
        "colab_type": "text"
      },
      "source": [
        "**Metaheurísticas. Método Constructivo. Colonia de Hormigas**"
      ]
    },
    {
      "cell_type": "code",
      "metadata": {
        "id": "gybz0CvpqgRw",
        "colab_type": "code",
        "colab": {}
      },
      "source": [
        "def hormigas(problem,N):\n",
        " # N=Numero de hormigas\n",
        "\n",
        "  Nodos=list(problem.get_nodes())\n",
        "  Aristas=list(problem.get_edges())\n",
        "\n",
        "#Inicializar con una cantidad de feromonas\n",
        "  T=[[1 for i in range(len(Nodos))]for i in range(len(Nodos))]\n",
        "\n",
        "  Hormiga=[[0]for i in range(N)]\n",
        "\n",
        "#Recorre cada agente para la solución\n",
        "  for h in range(N):\n",
        "     for i in range(len(Nodos)-1):\n",
        "    \n",
        "    #Elige el siguiente nodo\n",
        "      Nuevo_Nodo=Add_Nodo(problem,Hormiga[h],T)\n",
        "      Hormiga[h].append(Nuevo_Nodo)\n",
        "    \n",
        "    \n",
        "    #Incrementa Feromona en esa arista\n",
        "     T=Incrementa_Feromona(problem,T,Hormiga[h])  \n",
        "      \n",
        "  #print(\"Feromona(1)\",100)\n",
        "  \n",
        "    #Evapora Feromona\n",
        "     T=Evaporar_Feromona(T)\n",
        "    \n",
        "    #Mejor agente\n",
        "  mejor_solucion=[]\n",
        "  mejor_distancia=10e100\n",
        "  for h in range(N):\n",
        "    distancia_actual=distancia_total(Hormiga[h],problem)\n",
        "    if distancia_actual<mejor_distancia:\n",
        "      mejor_solucion=Hormiga[h]\n",
        "      mejor_distancia=distancia_actual\n",
        "      \n",
        "  def Add_Nodo(problem,H,T):\n",
        "    Nodos=list(problem.get_nodes())\n",
        "    return random.choice(list(set(range(1,len(Nodos)))-set(H)))\n",
        "\n",
        "  def Incrementa_Feromona(problem,T,H):\n",
        "    for i in range(len(H)-1):\n",
        "      T[H[i]][H[i+1]]+= 1000/distancia_total(H,problem)\n",
        "    \n",
        "    return T\n",
        "\n",
        "  def Evaporar_Feronomas(T):\n",
        "    T=[[max(T[i][j]-0.3,1) for i in range(len(Nodos))] for j in range(len(Nodos))]\n",
        "    return T\n",
        "\n",
        "\n",
        "      \n",
        "  print(distancia_total(mejor_solucion,problem),mejor_solucion)         \n",
        "#print(hormigas(problem,100))\n"
      ],
      "execution_count": 0,
      "outputs": []
    }
  ]
}